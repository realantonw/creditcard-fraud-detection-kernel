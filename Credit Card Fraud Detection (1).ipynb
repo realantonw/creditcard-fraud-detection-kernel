{
 "cells": [
  {
   "cell_type": "markdown",
   "metadata": {},
   "source": [
    "# Credit Card Fraud Detection:"
   ]
  },
  {
   "cell_type": "markdown",
   "metadata": {},
   "source": [
    "### Information:\n",
    "#### Authors:\n",
    "- **Fuchs** Samuel\n",
    "- **Wohlgemuth** Anton h11778996\n",
    "\n",
    "#### Course:\n",
    "- 1636 Data Analytics\n",
    "\n"
   ]
  },
  {
   "cell_type": "markdown",
   "metadata": {},
   "source": [
    "## Project Overview:"
   ]
  },
  {
   "cell_type": "markdown",
   "metadata": {},
   "source": [
    "### Context:\n",
    "It is important that credit card companies are able to recognize fraudulent credit card transactions so that customers are not charged for items that they did not purchase.\n",
    "\n",
    "### Data:\n",
    "\n",
    "The datasets contains transactions made by credit cards in September 2013 by european cardholders. This dataset presents transactions that occurred in **two days, where we have 492 frauds out of 284,807 transactions**. The dataset is highly unbalanced, the positive class (frauds) account for 0.172% of all transactions.\n",
    "\n",
    "It contains only numerical input variables which are the result of a PCA transformation. Unfortunately, due to confidentiality issues, we cannot provide the original features and more background information about the data. Features V1, V2, ... V28 are the principal components obtained with PCA, the only features which have not been transformed with PCA are 'Time' and 'Amount'. Feature 'Time' contains the seconds elapsed between each transaction and the first transaction in the dataset. The feature 'Amount' is the transaction Amount, this feature can be used for example-dependant cost-senstive learning. Feature 'Class' is the response variable and it takes value 1 in case of fraud and 0 otherwise.\n"
   ]
  },
  {
   "cell_type": "markdown",
   "metadata": {},
   "source": [
    "# Für Samuel :)\n",
    "\n",
    "### Was habe ich gemacht:\n",
    "\n",
    "Daten eingelesen und mir ein Bild davon gemacht. \n",
    "Data Preprocessing Steps\n",
    "Verschiedene Methoden um imbalanced Data zu handeln, ausprobiert. \n",
    "- Undersampling hat funktioniert\n",
    "- Oversampling hat funktioniert\n",
    "- SMOTE -> Code vorhanden aber Kernel died\n",
    "\n",
    "Eine Funktion geschrieben welche die wichtigsten Metrics eines Models plottet (Accuracy, F1- Score, TP,FP,TN,FN, etc. CPU Runtime)\n",
    "\n",
    "Verschiedenen Modelle trainiert und jeweils mithilfe von GridSearchCV die Parameter der Modelle optimiert. \n",
    "Hab die Modelle immer auf den undersampled/oversampled Datensatz trainiert und zur evaluierung (Accuracy Score) den gesamten Datensatz hergenommen. Die Zellen die den Oversampled Datensatz verwenden habe ich nicht alle ausgeführt, da der Kernel crashen könnte. \n",
    "Auch bei der Hyperparametersuche des XGBoosts stirbt der Kernel (Cell nicht ausführen) \n",
    "\n",
    "Zum Abschluss habe ich noch mithilfe von PCA die Anzahl der Komponenten in unseren Datensatz von 30 auf 10 reduziert und nocheinmal jedes Modell auf den neuen (transformten) Datensatz trainiert. und jeweiligen Report des Modells geplottet. \n",
    "\n",
    "### TODO: \n",
    "- **Objective ausfüllen** \n",
    "    - (Why did we choose this project?)\n",
    "- **Conclussion schreiben:**\n",
    "    - Verschiedenen Modelle anhand der Scores beschreiben \n",
    "    - Wo die höchste Accuracy/F1-Score/Precission/Recall\n",
    "    - Welche Modelle waren am Schnellsten?\n",
    "    - Wieviel Accuracy wurde durch PCA verloren?\n",
    "\n"
   ]
  },
  {
   "cell_type": "markdown",
   "metadata": {},
   "source": [
    "# OBJECTIVE: (Why did we choose this project?)\n",
    "\n",
    "TODO"
   ]
  },
  {
   "cell_type": "markdown",
   "metadata": {},
   "source": [
    "# Plan of attack:\n",
    "- **Importing necessary libaries**\n",
    "- **Reading data**\n",
    "- **Inspecting the data**\n",
    "- **Experimenting w/ different methods to handle the imbalanced data**\n",
    "    - Undersampling\n",
    "    - Oversampling \n",
    "    - SMOTE\n",
    "- **Trying and Comparing different classification methods**\n",
    "    - Logistic Regression\n",
    "    - KNN\n",
    "    - SVM\n",
    "    - Random Forest\n",
    "    - LGBM\n",
    "    - XGBoost\n",
    "- **Hyperparameter optimization**\n",
    "- **PCA**\n",
    "- **Conclussion**"
   ]
  },
  {
   "cell_type": "markdown",
   "metadata": {},
   "source": [
    "## Importing libaries:"
   ]
  },
  {
   "cell_type": "code",
   "execution_count": 73,
   "metadata": {},
   "outputs": [],
   "source": [
    "import pandas as pd # to import csv and for data manipulation\n",
    "import matplotlib.pyplot as plt # to plot graph\n",
    "import seaborn as sns # for intractve graphs\n",
    "import numpy as np # for linear algebra\n",
    "import datetime # to dela with date and time\n",
    "%matplotlib inline\n",
    "from sklearn.preprocessing import StandardScaler # for preprocessing the data\n",
    "from sklearn.ensemble import RandomForestClassifier # Random forest classifier\n",
    "from sklearn.tree import DecisionTreeClassifier # for Decision Tree classifier\n",
    "from sklearn.svm import SVC # for SVM classification\n",
    "from sklearn.linear_model import LogisticRegression\n",
    "from sklearn.model_selection import train_test_split # to split the data\n",
    "from sklearn.model_selection import KFold # For cross vbalidation\n",
    "from sklearn.neighbors import KNeighborsClassifier\n",
    "from sklearn.model_selection import GridSearchCV # for tunnig hyper parameter it will use all combination of given parameters\n",
    "from sklearn.model_selection import RandomizedSearchCV # same for tunning hyper parameter but will use random combinations of parameters\n",
    "from sklearn.metrics import confusion_matrix,recall_score,precision_recall_curve,auc,roc_curve,roc_auc_score,classification_report\n",
    "import warnings\n",
    "warnings.filterwarnings('ignore')\n",
    "import plotly.offline as py\n",
    "import lightgbm as lgb\n",
    "import xgboost as xgb"
   ]
  },
  {
   "cell_type": "markdown",
   "metadata": {},
   "source": [
    "## Reading the data:"
   ]
  },
  {
   "cell_type": "code",
   "execution_count": 74,
   "metadata": {},
   "outputs": [],
   "source": [
    "import pandas as pd\n",
    "df = pd.read_csv('data/creditcard.csv')"
   ]
  },
  {
   "cell_type": "code",
   "execution_count": 75,
   "metadata": {},
   "outputs": [
    {
     "data": {
      "text/html": [
       "<div>\n",
       "<style scoped>\n",
       "    .dataframe tbody tr th:only-of-type {\n",
       "        vertical-align: middle;\n",
       "    }\n",
       "\n",
       "    .dataframe tbody tr th {\n",
       "        vertical-align: top;\n",
       "    }\n",
       "\n",
       "    .dataframe thead th {\n",
       "        text-align: right;\n",
       "    }\n",
       "</style>\n",
       "<table border=\"1\" class=\"dataframe\">\n",
       "  <thead>\n",
       "    <tr style=\"text-align: right;\">\n",
       "      <th></th>\n",
       "      <th>Time</th>\n",
       "      <th>V1</th>\n",
       "      <th>V2</th>\n",
       "      <th>V3</th>\n",
       "      <th>V4</th>\n",
       "      <th>V5</th>\n",
       "      <th>V6</th>\n",
       "      <th>V7</th>\n",
       "      <th>V8</th>\n",
       "      <th>V9</th>\n",
       "      <th>...</th>\n",
       "      <th>V21</th>\n",
       "      <th>V22</th>\n",
       "      <th>V23</th>\n",
       "      <th>V24</th>\n",
       "      <th>V25</th>\n",
       "      <th>V26</th>\n",
       "      <th>V27</th>\n",
       "      <th>V28</th>\n",
       "      <th>Amount</th>\n",
       "      <th>Class</th>\n",
       "    </tr>\n",
       "  </thead>\n",
       "  <tbody>\n",
       "    <tr>\n",
       "      <th>0</th>\n",
       "      <td>0.0</td>\n",
       "      <td>-1.359807</td>\n",
       "      <td>-0.072781</td>\n",
       "      <td>2.536347</td>\n",
       "      <td>1.378155</td>\n",
       "      <td>-0.338321</td>\n",
       "      <td>0.462388</td>\n",
       "      <td>0.239599</td>\n",
       "      <td>0.098698</td>\n",
       "      <td>0.363787</td>\n",
       "      <td>...</td>\n",
       "      <td>-0.018307</td>\n",
       "      <td>0.277838</td>\n",
       "      <td>-0.110474</td>\n",
       "      <td>0.066928</td>\n",
       "      <td>0.128539</td>\n",
       "      <td>-0.189115</td>\n",
       "      <td>0.133558</td>\n",
       "      <td>-0.021053</td>\n",
       "      <td>149.62</td>\n",
       "      <td>0</td>\n",
       "    </tr>\n",
       "    <tr>\n",
       "      <th>1</th>\n",
       "      <td>0.0</td>\n",
       "      <td>1.191857</td>\n",
       "      <td>0.266151</td>\n",
       "      <td>0.166480</td>\n",
       "      <td>0.448154</td>\n",
       "      <td>0.060018</td>\n",
       "      <td>-0.082361</td>\n",
       "      <td>-0.078803</td>\n",
       "      <td>0.085102</td>\n",
       "      <td>-0.255425</td>\n",
       "      <td>...</td>\n",
       "      <td>-0.225775</td>\n",
       "      <td>-0.638672</td>\n",
       "      <td>0.101288</td>\n",
       "      <td>-0.339846</td>\n",
       "      <td>0.167170</td>\n",
       "      <td>0.125895</td>\n",
       "      <td>-0.008983</td>\n",
       "      <td>0.014724</td>\n",
       "      <td>2.69</td>\n",
       "      <td>0</td>\n",
       "    </tr>\n",
       "    <tr>\n",
       "      <th>2</th>\n",
       "      <td>1.0</td>\n",
       "      <td>-1.358354</td>\n",
       "      <td>-1.340163</td>\n",
       "      <td>1.773209</td>\n",
       "      <td>0.379780</td>\n",
       "      <td>-0.503198</td>\n",
       "      <td>1.800499</td>\n",
       "      <td>0.791461</td>\n",
       "      <td>0.247676</td>\n",
       "      <td>-1.514654</td>\n",
       "      <td>...</td>\n",
       "      <td>0.247998</td>\n",
       "      <td>0.771679</td>\n",
       "      <td>0.909412</td>\n",
       "      <td>-0.689281</td>\n",
       "      <td>-0.327642</td>\n",
       "      <td>-0.139097</td>\n",
       "      <td>-0.055353</td>\n",
       "      <td>-0.059752</td>\n",
       "      <td>378.66</td>\n",
       "      <td>0</td>\n",
       "    </tr>\n",
       "    <tr>\n",
       "      <th>3</th>\n",
       "      <td>1.0</td>\n",
       "      <td>-0.966272</td>\n",
       "      <td>-0.185226</td>\n",
       "      <td>1.792993</td>\n",
       "      <td>-0.863291</td>\n",
       "      <td>-0.010309</td>\n",
       "      <td>1.247203</td>\n",
       "      <td>0.237609</td>\n",
       "      <td>0.377436</td>\n",
       "      <td>-1.387024</td>\n",
       "      <td>...</td>\n",
       "      <td>-0.108300</td>\n",
       "      <td>0.005274</td>\n",
       "      <td>-0.190321</td>\n",
       "      <td>-1.175575</td>\n",
       "      <td>0.647376</td>\n",
       "      <td>-0.221929</td>\n",
       "      <td>0.062723</td>\n",
       "      <td>0.061458</td>\n",
       "      <td>123.50</td>\n",
       "      <td>0</td>\n",
       "    </tr>\n",
       "    <tr>\n",
       "      <th>4</th>\n",
       "      <td>2.0</td>\n",
       "      <td>-1.158233</td>\n",
       "      <td>0.877737</td>\n",
       "      <td>1.548718</td>\n",
       "      <td>0.403034</td>\n",
       "      <td>-0.407193</td>\n",
       "      <td>0.095921</td>\n",
       "      <td>0.592941</td>\n",
       "      <td>-0.270533</td>\n",
       "      <td>0.817739</td>\n",
       "      <td>...</td>\n",
       "      <td>-0.009431</td>\n",
       "      <td>0.798278</td>\n",
       "      <td>-0.137458</td>\n",
       "      <td>0.141267</td>\n",
       "      <td>-0.206010</td>\n",
       "      <td>0.502292</td>\n",
       "      <td>0.219422</td>\n",
       "      <td>0.215153</td>\n",
       "      <td>69.99</td>\n",
       "      <td>0</td>\n",
       "    </tr>\n",
       "  </tbody>\n",
       "</table>\n",
       "<p>5 rows × 31 columns</p>\n",
       "</div>"
      ],
      "text/plain": [
       "   Time        V1        V2        V3        V4        V5        V6        V7  \\\n",
       "0   0.0 -1.359807 -0.072781  2.536347  1.378155 -0.338321  0.462388  0.239599   \n",
       "1   0.0  1.191857  0.266151  0.166480  0.448154  0.060018 -0.082361 -0.078803   \n",
       "2   1.0 -1.358354 -1.340163  1.773209  0.379780 -0.503198  1.800499  0.791461   \n",
       "3   1.0 -0.966272 -0.185226  1.792993 -0.863291 -0.010309  1.247203  0.237609   \n",
       "4   2.0 -1.158233  0.877737  1.548718  0.403034 -0.407193  0.095921  0.592941   \n",
       "\n",
       "         V8        V9  ...         V21       V22       V23       V24  \\\n",
       "0  0.098698  0.363787  ...   -0.018307  0.277838 -0.110474  0.066928   \n",
       "1  0.085102 -0.255425  ...   -0.225775 -0.638672  0.101288 -0.339846   \n",
       "2  0.247676 -1.514654  ...    0.247998  0.771679  0.909412 -0.689281   \n",
       "3  0.377436 -1.387024  ...   -0.108300  0.005274 -0.190321 -1.175575   \n",
       "4 -0.270533  0.817739  ...   -0.009431  0.798278 -0.137458  0.141267   \n",
       "\n",
       "        V25       V26       V27       V28  Amount  Class  \n",
       "0  0.128539 -0.189115  0.133558 -0.021053  149.62      0  \n",
       "1  0.167170  0.125895 -0.008983  0.014724    2.69      0  \n",
       "2 -0.327642 -0.139097 -0.055353 -0.059752  378.66      0  \n",
       "3  0.647376 -0.221929  0.062723  0.061458  123.50      0  \n",
       "4 -0.206010  0.502292  0.219422  0.215153   69.99      0  \n",
       "\n",
       "[5 rows x 31 columns]"
      ]
     },
     "execution_count": 75,
     "metadata": {},
     "output_type": "execute_result"
    }
   ],
   "source": [
    "df.head()"
   ]
  },
  {
   "cell_type": "markdown",
   "metadata": {},
   "source": [
    "## Visualizing the two clases (normal transaction / fraud)"
   ]
  },
  {
   "cell_type": "code",
   "execution_count": 76,
   "metadata": {
    "scrolled": true
   },
   "outputs": [
    {
     "data": {
      "text/plain": [
       "<matplotlib.axes._subplots.AxesSubplot at 0x7f78456a8eb8>"
      ]
     },
     "execution_count": 76,
     "metadata": {},
     "output_type": "execute_result"
    },
    {
     "data": {
      "image/png": "[encoded data removed]",
      "text/plain": [
       "<Figure size 432x288 with 1 Axes>"
      ]
     },
     "metadata": {},
     "output_type": "display_data"
    }
   ],
   "source": [
    "sns.countplot(\"Class\",data=df)"
   ]
  },
  {
   "cell_type": "markdown",
   "metadata": {},
   "source": [
    "### How many fraud / normal transactions?"
   ]
  },
  {
   "cell_type": "code",
   "execution_count": 77,
   "metadata": {},
   "outputs": [
    {
     "name": "stdout",
     "output_type": "stream",
     "text": [
      "There are 492 Fraud transaction. -> 0.1727485630620034%\n",
      "There are 284315 normal transaction. -> 99.82725143693798%\n"
     ]
    }
   ],
   "source": [
    "number_frauds = len(df[df['Class']==1])\n",
    "perc_frauds = number_frauds/len(df)\n",
    "print(\"There are \" + str(number_frauds) + \" Fraud transaction. -> \" + str(perc_frauds*100) + \"%\") \n",
    "\n",
    "number_normal = len(df[df['Class']==0])\n",
    "perc_normal = number_normal/len(df)\n",
    "print(\"There are \" + str(number_normal) + \" normal transaction. -> \" + str(perc_normal*100) + \"%\") "
   ]
  },
  {
   "cell_type": "markdown",
   "metadata": {},
   "source": [
    "### Distribution of both transactions classes:"
   ]
  },
  {
   "cell_type": "code",
   "execution_count": 78,
   "metadata": {},
   "outputs": [
    {
     "data": {
      "text/plain": [
       "Text(0.5,1,'Amount normal transactions')"
      ]
     },
     "execution_count": 78,
     "metadata": {},
     "output_type": "execute_result"
    },
    {
     "data": {
      "image/png": "[encoded data removed]",
      "text/plain": [
       "<Figure size 720x432 with 2 Axes>"
      ]
     },
     "metadata": {},
     "output_type": "display_data"
    }
   ],
   "source": [
    "fraud = df[df['Class']==1]\n",
    "normal = df[df['Class']==0]\n",
    "\n",
    "plt.figure(figsize=(10,6))\n",
    "\n",
    "plt.subplot(1,2,1)\n",
    "plt.hist(fraud['Amount'])\n",
    "plt.title('Amount Fraud transactions')\n",
    "\n",
    "plt.subplot(1,2,2)\n",
    "plt.hist(normal['Amount'])\n",
    "plt.title('Amount normal transactions')"
   ]
  },
  {
   "cell_type": "markdown",
   "metadata": {},
   "source": [
    "## Tackling the imbalanced classification problem:"
   ]
  },
  {
   "cell_type": "markdown",
   "metadata": {},
   "source": [
    "The main problem we have is that we have a lot more normal transaction data, than fraud transactions. \n",
    "\n",
    "In order to fix this probblem we tried the following methods:\n",
    "\n",
    "- **Undersampling**\n",
    "- **Oversampling**\n",
    "- **Synthetic Samples SMOTE**"
   ]
  },
  {
   "cell_type": "markdown",
   "metadata": {},
   "source": [
    "#### Four Outcomes of Binary Classification\n",
    "\n",
    "* **True positives:** data points labeled as positive that are actually positive\n",
    "* **False positives:** data points labeled as positive that are actually negative\n",
    "* **True negatives:** data points labeled as negative that are actually negative\n",
    "* **False negatives:** data points labeled as negative that are actually positive\n",
    "\n",
    "#### Recall and Precision Metrics\n",
    "* **Recall:** ability of a classification model to identify all relevant instances\n",
    "* **Precision:** ability of a classification model to return only relevant instances\n",
    "* **F1 score:** single metric that combines recall and precision using the harmonic mean"
   ]
  },
  {
   "cell_type": "markdown",
   "metadata": {},
   "source": [
    "# Data Preprocessing:"
   ]
  },
  {
   "cell_type": "markdown",
   "metadata": {},
   "source": [
    "Defining functions that we may need later on"
   ]
  },
  {
   "cell_type": "code",
   "execution_count": 79,
   "metadata": {},
   "outputs": [],
   "source": [
    "def standardize(X_train, X_test):\n",
    "    scaler = StandardScaler()\n",
    "    scaler.fit(X_train)\n",
    "    X_train = scaler.transform(X_train)\n",
    "    X_test = scaler.transform(X_test)\n",
    "    return(X_train, X_test)"
   ]
  },
  {
   "cell_type": "code",
   "execution_count": 80,
   "metadata": {},
   "outputs": [],
   "source": [
    "def preprocessing (data):\n",
    "    X = data.ix[:,data.columns != \"Class\"]\n",
    "    y = data.ix[:,data.columns==\"Class\"]\n",
    "    X_train, X_test, y_train, y_test = train_test_split(X,y)\n",
    "    return(X_train, X_test, y_train, y_test)"
   ]
  },
  {
   "cell_type": "markdown",
   "metadata": {},
   "source": [
    "### Splitting the whole Dataset in Train/Test"
   ]
  },
  {
   "cell_type": "code",
   "execution_count": 81,
   "metadata": {},
   "outputs": [],
   "source": [
    "X_train, X_test, y_train, y_test = preprocessing(df)"
   ]
  },
  {
   "cell_type": "markdown",
   "metadata": {},
   "source": [
    "## UNDERSAMPLING"
   ]
  },
  {
   "cell_type": "markdown",
   "metadata": {},
   "source": [
    "In order to undersample we need all entries of the fraud class an only a portion of the normal transactions!\n",
    "\n",
    "We defined a function undersample in order to try out different proportions of the normal - fraud transactions\n",
    "\n",
    "Looking for the best ratio by simply using a logistic regression"
   ]
  },
  {
   "cell_type": "code",
   "execution_count": 82,
   "metadata": {},
   "outputs": [],
   "source": [
    "def undersample(normal,fraud, proportion):\n",
    "    \n",
    "    # Getting the indices\n",
    "    fraud_indices= fraud.index\n",
    "    normal_indices = normal.index\n",
    "    \n",
    "    # getting normal indices for the undersample set\n",
    "    Normal_indices_undersample = np.array(np.random.choice(normal_indices,(proportion*number_frauds),replace=False))\n",
    "    undersample_data= np.concatenate([fraud_indices,Normal_indices_undersample])\n",
    "    \n",
    "    # Subsetting undersample set\n",
    "    undersample_data = df.iloc[undersample_data,:]\n",
    "    \n",
    "    \n",
    "    # Results:\n",
    "    print('The Undersample consists of: \\n'\n",
    "         + str(len(undersample_data[undersample_data['Class']==0])) + \" (\"+str(len(undersample_data[undersample_data['Class']==0])/len(undersample_data)*100)+\"%)\"\n",
    "         + ' normal transactions\\n' \n",
    "         + str(len(undersample_data[undersample_data['Class']==1])) + \" (\"+str(len(undersample_data[undersample_data['Class']==1])/len(undersample_data)*100)+\"%)\"\n",
    "         + ' fraud transactions\\n'\n",
    "         + str(len(undersample_data)) + \" total transactions\")\n",
    "    return(undersample_data)"
   ]
  },
  {
   "cell_type": "code",
   "execution_count": 83,
   "metadata": {},
   "outputs": [
    {
     "name": "stdout",
     "output_type": "stream",
     "text": [
      "------------------------------------------------------------\n",
      "------------------  Undersample 1:1  -----------------------\n",
      "------------------------------------------------------------\n",
      "\n",
      "The Undersample consists of: \n",
      "492 (50.0%) normal transactions\n",
      "492 (50.0%) fraud transactions\n",
      "984 total transactions\n",
      "------------------------------------------------------------\n",
      "Model Score: 0.910569105691\n",
      "\n",
      "------------------------------------------------------------\n",
      "------------------  Undersample 1:2  -----------------------\n",
      "------------------------------------------------------------\n",
      "\n",
      "The Undersample consists of: \n",
      "984 (66.66666666666666%) normal transactions\n",
      "492 (33.33333333333333%) fraud transactions\n",
      "1476 total transactions\n",
      "------------------------------------------------------------\n",
      "Model Score: 0.89566395664\n",
      "\n",
      "------------------------------------------------------------\n",
      "------------------  Undersample 1:3  -----------------------\n",
      "------------------------------------------------------------\n",
      "\n",
      "The Undersample consists of: \n",
      "1476 (75.0%) normal transactions\n",
      "492 (25.0%) fraud transactions\n",
      "1968 total transactions\n",
      "------------------------------------------------------------\n",
      "Model Score: 0.898882113821\n",
      "\n",
      "------------------------------------------------------------\n",
      "------------------  Undersample 1:4  -----------------------\n",
      "------------------------------------------------------------\n",
      "\n",
      "The Undersample consists of: \n",
      "1968 (80.0%) normal transactions\n",
      "492 (20.0%) fraud transactions\n",
      "2460 total transactions\n",
      "------------------------------------------------------------\n",
      "Model Score: 0.915447154472\n",
      "\n"
     ]
    }
   ],
   "source": [
    "from sklearn.model_selection import cross_val_score\n",
    "\n",
    "for i in range(1,5,1):\n",
    "    print(\"------------------------------------------------------------\\n\" + \n",
    "          \"------------------  Undersample 1:\" + str(i)+\"  -----------------------\\n\" + \n",
    "          \"------------------------------------------------------------\\n\")\n",
    "    undersample_data = undersample(normal,fraud,i)\n",
    "    model = LogisticRegression()\n",
    "    scores = cross_val_score(model, undersample_data.ix[:,undersample_data.columns != \"Class\"],undersample_data.ix[:,undersample_data.columns==\"Class\"] )\n",
    "    scores = cross_val_score(model, undersample_data.ix[:,undersample_data.columns != \"Class\"],undersample_data.ix[:,undersample_data.columns==\"Class\"] )\n",
    "    print(\"------------------------------------------------------------\")\n",
    "    print('Model Score: ' + str(np.mean(scores)) + '\\n')"
   ]
  },
  {
   "cell_type": "code",
   "execution_count": 84,
   "metadata": {},
   "outputs": [
    {
     "name": "stdout",
     "output_type": "stream",
     "text": [
      "The Undersample consists of: \n",
      "1968 (80.0%) normal transactions\n",
      "492 (20.0%) fraud transactions\n",
      "2460 total transactions\n"
     ]
    }
   ],
   "source": [
    "data_undersample = undersample(normal,fraud,4)"
   ]
  },
  {
   "cell_type": "code",
   "execution_count": 85,
   "metadata": {},
   "outputs": [
    {
     "data": {
      "text/html": [
       "<div>\n",
       "<style scoped>\n",
       "    .dataframe tbody tr th:only-of-type {\n",
       "        vertical-align: middle;\n",
       "    }\n",
       "\n",
       "    .dataframe tbody tr th {\n",
       "        vertical-align: top;\n",
       "    }\n",
       "\n",
       "    .dataframe thead th {\n",
       "        text-align: right;\n",
       "    }\n",
       "</style>\n",
       "<table border=\"1\" class=\"dataframe\">\n",
       "  <thead>\n",
       "    <tr style=\"text-align: right;\">\n",
       "      <th></th>\n",
       "      <th>V1</th>\n",
       "      <th>V2</th>\n",
       "      <th>V3</th>\n",
       "      <th>V4</th>\n",
       "      <th>V5</th>\n",
       "      <th>V6</th>\n",
       "      <th>V7</th>\n",
       "      <th>V8</th>\n",
       "      <th>V9</th>\n",
       "      <th>V10</th>\n",
       "      <th>...</th>\n",
       "      <th>V21</th>\n",
       "      <th>V22</th>\n",
       "      <th>V23</th>\n",
       "      <th>V24</th>\n",
       "      <th>V25</th>\n",
       "      <th>V26</th>\n",
       "      <th>V27</th>\n",
       "      <th>V28</th>\n",
       "      <th>Class</th>\n",
       "      <th>Normalized Amount</th>\n",
       "    </tr>\n",
       "  </thead>\n",
       "  <tbody>\n",
       "    <tr>\n",
       "      <th>541</th>\n",
       "      <td>-2.312227</td>\n",
       "      <td>1.951992</td>\n",
       "      <td>-1.609851</td>\n",
       "      <td>3.997906</td>\n",
       "      <td>-0.522188</td>\n",
       "      <td>-1.426545</td>\n",
       "      <td>-2.537387</td>\n",
       "      <td>1.391657</td>\n",
       "      <td>-2.770089</td>\n",
       "      <td>-2.772272</td>\n",
       "      <td>...</td>\n",
       "      <td>0.517232</td>\n",
       "      <td>-0.035049</td>\n",
       "      <td>-0.465211</td>\n",
       "      <td>0.320198</td>\n",
       "      <td>0.044519</td>\n",
       "      <td>0.177840</td>\n",
       "      <td>0.261145</td>\n",
       "      <td>-0.143276</td>\n",
       "      <td>1</td>\n",
       "      <td>-0.362200</td>\n",
       "    </tr>\n",
       "    <tr>\n",
       "      <th>623</th>\n",
       "      <td>-3.043541</td>\n",
       "      <td>-3.157307</td>\n",
       "      <td>1.088463</td>\n",
       "      <td>2.288644</td>\n",
       "      <td>1.359805</td>\n",
       "      <td>-1.064823</td>\n",
       "      <td>0.325574</td>\n",
       "      <td>-0.067794</td>\n",
       "      <td>-0.270953</td>\n",
       "      <td>-0.838587</td>\n",
       "      <td>...</td>\n",
       "      <td>0.661696</td>\n",
       "      <td>0.435477</td>\n",
       "      <td>1.375966</td>\n",
       "      <td>-0.293803</td>\n",
       "      <td>0.279798</td>\n",
       "      <td>-0.145362</td>\n",
       "      <td>-0.252773</td>\n",
       "      <td>0.035764</td>\n",
       "      <td>1</td>\n",
       "      <td>1.544010</td>\n",
       "    </tr>\n",
       "    <tr>\n",
       "      <th>4920</th>\n",
       "      <td>-2.303350</td>\n",
       "      <td>1.759247</td>\n",
       "      <td>-0.359745</td>\n",
       "      <td>2.330243</td>\n",
       "      <td>-0.821628</td>\n",
       "      <td>-0.075788</td>\n",
       "      <td>0.562320</td>\n",
       "      <td>-0.399147</td>\n",
       "      <td>-0.238253</td>\n",
       "      <td>-1.525412</td>\n",
       "      <td>...</td>\n",
       "      <td>-0.294166</td>\n",
       "      <td>-0.932391</td>\n",
       "      <td>0.172726</td>\n",
       "      <td>-0.087330</td>\n",
       "      <td>-0.156114</td>\n",
       "      <td>-0.542628</td>\n",
       "      <td>0.039566</td>\n",
       "      <td>-0.153029</td>\n",
       "      <td>1</td>\n",
       "      <td>0.502368</td>\n",
       "    </tr>\n",
       "    <tr>\n",
       "      <th>6108</th>\n",
       "      <td>-4.397974</td>\n",
       "      <td>1.358367</td>\n",
       "      <td>-2.592844</td>\n",
       "      <td>2.679787</td>\n",
       "      <td>-1.128131</td>\n",
       "      <td>-1.706536</td>\n",
       "      <td>-3.496197</td>\n",
       "      <td>-0.248778</td>\n",
       "      <td>-0.247768</td>\n",
       "      <td>-4.801637</td>\n",
       "      <td>...</td>\n",
       "      <td>0.573574</td>\n",
       "      <td>0.176968</td>\n",
       "      <td>-0.436207</td>\n",
       "      <td>-0.053502</td>\n",
       "      <td>0.252405</td>\n",
       "      <td>-0.657488</td>\n",
       "      <td>-0.827136</td>\n",
       "      <td>0.849573</td>\n",
       "      <td>1</td>\n",
       "      <td>-0.149599</td>\n",
       "    </tr>\n",
       "    <tr>\n",
       "      <th>6329</th>\n",
       "      <td>1.234235</td>\n",
       "      <td>3.019740</td>\n",
       "      <td>-4.304597</td>\n",
       "      <td>4.732795</td>\n",
       "      <td>3.624201</td>\n",
       "      <td>-1.357746</td>\n",
       "      <td>1.713445</td>\n",
       "      <td>-0.496358</td>\n",
       "      <td>-1.282858</td>\n",
       "      <td>-2.447469</td>\n",
       "      <td>...</td>\n",
       "      <td>-0.379068</td>\n",
       "      <td>-0.704181</td>\n",
       "      <td>-0.656805</td>\n",
       "      <td>-1.632653</td>\n",
       "      <td>1.488901</td>\n",
       "      <td>0.566797</td>\n",
       "      <td>-0.010016</td>\n",
       "      <td>0.146793</td>\n",
       "      <td>1</td>\n",
       "      <td>-0.358597</td>\n",
       "    </tr>\n",
       "  </tbody>\n",
       "</table>\n",
       "<p>5 rows × 30 columns</p>\n",
       "</div>"
      ],
      "text/plain": [
       "            V1        V2        V3        V4        V5        V6        V7  \\\n",
       "541  -2.312227  1.951992 -1.609851  3.997906 -0.522188 -1.426545 -2.537387   \n",
       "623  -3.043541 -3.157307  1.088463  2.288644  1.359805 -1.064823  0.325574   \n",
       "4920 -2.303350  1.759247 -0.359745  2.330243 -0.821628 -0.075788  0.562320   \n",
       "6108 -4.397974  1.358367 -2.592844  2.679787 -1.128131 -1.706536 -3.496197   \n",
       "6329  1.234235  3.019740 -4.304597  4.732795  3.624201 -1.357746  1.713445   \n",
       "\n",
       "            V8        V9       V10        ...               V21       V22  \\\n",
       "541   1.391657 -2.770089 -2.772272        ...          0.517232 -0.035049   \n",
       "623  -0.067794 -0.270953 -0.838587        ...          0.661696  0.435477   \n",
       "4920 -0.399147 -0.238253 -1.525412        ...         -0.294166 -0.932391   \n",
       "6108 -0.248778 -0.247768 -4.801637        ...          0.573574  0.176968   \n",
       "6329 -0.496358 -1.282858 -2.447469        ...         -0.379068 -0.704181   \n",
       "\n",
       "           V23       V24       V25       V26       V27       V28  Class  \\\n",
       "541  -0.465211  0.320198  0.044519  0.177840  0.261145 -0.143276      1   \n",
       "623   1.375966 -0.293803  0.279798 -0.145362 -0.252773  0.035764      1   \n",
       "4920  0.172726 -0.087330 -0.156114 -0.542628  0.039566 -0.153029      1   \n",
       "6108 -0.436207 -0.053502  0.252405 -0.657488 -0.827136  0.849573      1   \n",
       "6329 -0.656805 -1.632653  1.488901  0.566797 -0.010016  0.146793      1   \n",
       "\n",
       "      Normalized Amount  \n",
       "541           -0.362200  \n",
       "623            1.544010  \n",
       "4920           0.502368  \n",
       "6108          -0.149599  \n",
       "6329          -0.358597  \n",
       "\n",
       "[5 rows x 30 columns]"
      ]
     },
     "execution_count": 85,
     "metadata": {},
     "output_type": "execute_result"
    }
   ],
   "source": [
    "data_undersample[\"Normalized Amount\"] = StandardScaler().fit_transform(data_undersample['Amount'].values.reshape(-1, 1))\n",
    "#dropping 'Time', 'Amount'\n",
    "data_undersample.drop([\"Time\",\"Amount\"],axis=1,inplace=True)\n",
    "data_undersample.head()"
   ]
  },
  {
   "cell_type": "markdown",
   "metadata": {},
   "source": [
    "## OVERSAMPLING:"
   ]
  },
  {
   "cell_type": "markdown",
   "metadata": {},
   "source": [
    "First we split our data in training and test data as before, obviously we will only oversample in the training set!"
   ]
  },
  {
   "cell_type": "code",
   "execution_count": 86,
   "metadata": {},
   "outputs": [],
   "source": [
    "X_train[\"Class\"]= y_train[\"Class\"] # combining class with original data\n",
    "data_train = X_train.copy() # for naming convention"
   ]
  },
  {
   "cell_type": "code",
   "execution_count": 87,
   "metadata": {},
   "outputs": [],
   "source": [
    "fraud_trans_os = data_train[data_train['Class']==1]\n",
    "normal_trans_os = data_train[data_train['Class']==0]"
   ]
  },
  {
   "cell_type": "code",
   "execution_count": 88,
   "metadata": {
    "scrolled": false
   },
   "outputs": [
    {
     "name": "stdout",
     "output_type": "stream",
     "text": [
      "length of oversampled data is  279835\n",
      "Number of normal transcation in oversampled data 213235\n",
      "No.of fraud transcation 66600\n",
      "Proportion of Normal data in oversampled data is  0.762002608680115\n",
      "Proportion of fraud data in oversampled data is  0.23799739131988493\n"
     ]
    }
   ],
   "source": [
    "for i in range(180): # I set the range manually to achieve a split of 80%/20%\n",
    "    normal_trans_os= normal_trans_os.append(fraud_trans_os)\n",
    "data_oversampling = normal_trans_os.copy() \n",
    "print(\"length of oversampled data is \",len(data_oversampling))\n",
    "print(\"Number of normal transcation in oversampled data\",len(data_oversampling[data_oversampling[\"Class\"]==0]))\n",
    "print(\"No.of fraud transcation\",len(data_oversampling[data_oversampling[\"Class\"]==1]))\n",
    "print(\"Proportion of Normal data in oversampled data is \",len(data_oversampling[data_oversampling[\"Class\"]==0])/len(data_oversampling))\n",
    "print(\"Proportion of fraud data in oversampled data is \",len(data_oversampling[data_oversampling[\"Class\"]==1])/len(data_oversampling))"
   ]
  },
  {
   "cell_type": "markdown",
   "metadata": {},
   "source": [
    "### Standardizing the amount:"
   ]
  },
  {
   "cell_type": "code",
   "execution_count": 89,
   "metadata": {
    "scrolled": true
   },
   "outputs": [
    {
     "data": {
      "text/html": [
       "<div>\n",
       "<style scoped>\n",
       "    .dataframe tbody tr th:only-of-type {\n",
       "        vertical-align: middle;\n",
       "    }\n",
       "\n",
       "    .dataframe tbody tr th {\n",
       "        vertical-align: top;\n",
       "    }\n",
       "\n",
       "    .dataframe thead th {\n",
       "        text-align: right;\n",
       "    }\n",
       "</style>\n",
       "<table border=\"1\" class=\"dataframe\">\n",
       "  <thead>\n",
       "    <tr style=\"text-align: right;\">\n",
       "      <th></th>\n",
       "      <th>V1</th>\n",
       "      <th>V2</th>\n",
       "      <th>V3</th>\n",
       "      <th>V4</th>\n",
       "      <th>V5</th>\n",
       "      <th>V6</th>\n",
       "      <th>V7</th>\n",
       "      <th>V8</th>\n",
       "      <th>V9</th>\n",
       "      <th>V10</th>\n",
       "      <th>...</th>\n",
       "      <th>V21</th>\n",
       "      <th>V22</th>\n",
       "      <th>V23</th>\n",
       "      <th>V24</th>\n",
       "      <th>V25</th>\n",
       "      <th>V26</th>\n",
       "      <th>V27</th>\n",
       "      <th>V28</th>\n",
       "      <th>Class</th>\n",
       "      <th>Normalized Amount</th>\n",
       "    </tr>\n",
       "  </thead>\n",
       "  <tbody>\n",
       "    <tr>\n",
       "      <th>196066</th>\n",
       "      <td>-1.440684</td>\n",
       "      <td>0.999519</td>\n",
       "      <td>0.748581</td>\n",
       "      <td>0.555055</td>\n",
       "      <td>-0.789913</td>\n",
       "      <td>3.266579</td>\n",
       "      <td>1.362350</td>\n",
       "      <td>-1.667751</td>\n",
       "      <td>0.160718</td>\n",
       "      <td>-0.035699</td>\n",
       "      <td>...</td>\n",
       "      <td>1.672643</td>\n",
       "      <td>0.831751</td>\n",
       "      <td>0.069476</td>\n",
       "      <td>-0.327263</td>\n",
       "      <td>-0.233806</td>\n",
       "      <td>-0.330947</td>\n",
       "      <td>0.103815</td>\n",
       "      <td>-0.200824</td>\n",
       "      <td>0</td>\n",
       "      <td>1.015160</td>\n",
       "    </tr>\n",
       "    <tr>\n",
       "      <th>73839</th>\n",
       "      <td>1.080513</td>\n",
       "      <td>-0.744898</td>\n",
       "      <td>0.809880</td>\n",
       "      <td>0.218429</td>\n",
       "      <td>-1.174130</td>\n",
       "      <td>-0.112671</td>\n",
       "      <td>-0.647186</td>\n",
       "      <td>0.144692</td>\n",
       "      <td>1.449600</td>\n",
       "      <td>-0.448242</td>\n",
       "      <td>...</td>\n",
       "      <td>-0.231549</td>\n",
       "      <td>-0.667196</td>\n",
       "      <td>-0.039452</td>\n",
       "      <td>-0.075927</td>\n",
       "      <td>0.122060</td>\n",
       "      <td>0.969432</td>\n",
       "      <td>-0.059890</td>\n",
       "      <td>0.020971</td>\n",
       "      <td>0</td>\n",
       "      <td>-0.013160</td>\n",
       "    </tr>\n",
       "    <tr>\n",
       "      <th>120119</th>\n",
       "      <td>1.288584</td>\n",
       "      <td>0.233477</td>\n",
       "      <td>0.160397</td>\n",
       "      <td>0.429689</td>\n",
       "      <td>-0.017600</td>\n",
       "      <td>-0.488791</td>\n",
       "      <td>0.119168</td>\n",
       "      <td>-0.201057</td>\n",
       "      <td>-0.019109</td>\n",
       "      <td>-0.095244</td>\n",
       "      <td>...</td>\n",
       "      <td>-0.293637</td>\n",
       "      <td>-0.842562</td>\n",
       "      <td>0.009122</td>\n",
       "      <td>-0.437857</td>\n",
       "      <td>0.350089</td>\n",
       "      <td>0.142190</td>\n",
       "      <td>-0.028049</td>\n",
       "      <td>0.015038</td>\n",
       "      <td>0</td>\n",
       "      <td>-0.306011</td>\n",
       "    </tr>\n",
       "    <tr>\n",
       "      <th>55087</th>\n",
       "      <td>1.235939</td>\n",
       "      <td>0.236621</td>\n",
       "      <td>0.170233</td>\n",
       "      <td>0.506960</td>\n",
       "      <td>-0.222195</td>\n",
       "      <td>-0.576144</td>\n",
       "      <td>-0.077023</td>\n",
       "      <td>0.009783</td>\n",
       "      <td>-0.083936</td>\n",
       "      <td>-0.090058</td>\n",
       "      <td>...</td>\n",
       "      <td>-0.266881</td>\n",
       "      <td>-0.844161</td>\n",
       "      <td>0.085011</td>\n",
       "      <td>-0.064246</td>\n",
       "      <td>0.203568</td>\n",
       "      <td>0.100301</td>\n",
       "      <td>-0.032563</td>\n",
       "      <td>0.015585</td>\n",
       "      <td>0</td>\n",
       "      <td>-0.367857</td>\n",
       "    </tr>\n",
       "    <tr>\n",
       "      <th>1992</th>\n",
       "      <td>-2.281604</td>\n",
       "      <td>2.311501</td>\n",
       "      <td>-0.039098</td>\n",
       "      <td>-1.020338</td>\n",
       "      <td>-0.443675</td>\n",
       "      <td>-0.579518</td>\n",
       "      <td>0.040473</td>\n",
       "      <td>0.870113</td>\n",
       "      <td>0.567821</td>\n",
       "      <td>0.408086</td>\n",
       "      <td>...</td>\n",
       "      <td>-0.304800</td>\n",
       "      <td>-0.607748</td>\n",
       "      <td>-0.025686</td>\n",
       "      <td>-0.427980</td>\n",
       "      <td>0.224857</td>\n",
       "      <td>0.369988</td>\n",
       "      <td>0.580846</td>\n",
       "      <td>0.351721</td>\n",
       "      <td>0</td>\n",
       "      <td>-0.356191</td>\n",
       "    </tr>\n",
       "  </tbody>\n",
       "</table>\n",
       "<p>5 rows × 30 columns</p>\n",
       "</div>"
      ],
      "text/plain": [
       "              V1        V2        V3        V4        V5        V6        V7  \\\n",
       "196066 -1.440684  0.999519  0.748581  0.555055 -0.789913  3.266579  1.362350   \n",
       "73839   1.080513 -0.744898  0.809880  0.218429 -1.174130 -0.112671 -0.647186   \n",
       "120119  1.288584  0.233477  0.160397  0.429689 -0.017600 -0.488791  0.119168   \n",
       "55087   1.235939  0.236621  0.170233  0.506960 -0.222195 -0.576144 -0.077023   \n",
       "1992   -2.281604  2.311501 -0.039098 -1.020338 -0.443675 -0.579518  0.040473   \n",
       "\n",
       "              V8        V9       V10        ...               V21       V22  \\\n",
       "196066 -1.667751  0.160718 -0.035699        ...          1.672643  0.831751   \n",
       "73839   0.144692  1.449600 -0.448242        ...         -0.231549 -0.667196   \n",
       "120119 -0.201057 -0.019109 -0.095244        ...         -0.293637 -0.842562   \n",
       "55087   0.009783 -0.083936 -0.090058        ...         -0.266881 -0.844161   \n",
       "1992    0.870113  0.567821  0.408086        ...         -0.304800 -0.607748   \n",
       "\n",
       "             V23       V24       V25       V26       V27       V28  Class  \\\n",
       "196066  0.069476 -0.327263 -0.233806 -0.330947  0.103815 -0.200824      0   \n",
       "73839  -0.039452 -0.075927  0.122060  0.969432 -0.059890  0.020971      0   \n",
       "120119  0.009122 -0.437857  0.350089  0.142190 -0.028049  0.015038      0   \n",
       "55087   0.085011 -0.064246  0.203568  0.100301 -0.032563  0.015585      0   \n",
       "1992   -0.025686 -0.427980  0.224857  0.369988  0.580846  0.351721      0   \n",
       "\n",
       "        Normalized Amount  \n",
       "196066           1.015160  \n",
       "73839           -0.013160  \n",
       "120119          -0.306011  \n",
       "55087           -0.367857  \n",
       "1992            -0.356191  \n",
       "\n",
       "[5 rows x 30 columns]"
      ]
     },
     "execution_count": 89,
     "metadata": {},
     "output_type": "execute_result"
    }
   ],
   "source": [
    "data_oversampling[\"Normalized Amount\"] = StandardScaler().fit_transform(data_oversampling['Amount'].values.reshape(-1, 1))\n",
    "#dropping 'Time', 'Amount'\n",
    "data_oversampling.drop([\"Time\",\"Amount\"],axis=1,inplace=True)\n",
    "data_oversampling.head()"
   ]
  },
  {
   "cell_type": "code",
   "execution_count": 90,
   "metadata": {},
   "outputs": [],
   "source": [
    "# Preparing whole dataset\n",
    "X_test.drop([\"Time\"],axis=1,inplace=True)"
   ]
  },
  {
   "cell_type": "markdown",
   "metadata": {},
   "source": [
    "## SMOTE:"
   ]
  },
  {
   "cell_type": "markdown",
   "metadata": {},
   "source": [
    "We also tried handling our data imbalance with the SMOTE Technique (Synthetic Minority Over-sampling Technique)\n",
    "\n",
    "We put in some time trying to make it work, but somehow our kernel always kept crashing, therefore we uncommented the cells below, and continued working with the undersampled and oversampled data. \n",
    "Maybe we can fix this problem in the future!"
   ]
  },
  {
   "cell_type": "code",
   "execution_count": 36,
   "metadata": {},
   "outputs": [],
   "source": [
    "#from imblearn.over_sampling import SMOTE"
   ]
  },
  {
   "cell_type": "code",
   "execution_count": 37,
   "metadata": {},
   "outputs": [],
   "source": [
    "#os = SMOTE(random_state=0)"
   ]
  },
  {
   "cell_type": "code",
   "execution_count": 38,
   "metadata": {},
   "outputs": [],
   "source": [
    "#data_smote_X,data_smote_y= os.fit_sample(X_train,y_train)\n",
    "#data_smote_X = pd.DataFrame(data= data_smote_X,columns=X_train.columns )\n",
    "#data_smote_y= pd.DataFrame(data=data_smote_y,columns=[\"Class\"])\n",
    "\n",
    "# SUMMARY:\n",
    "#print(\"length of oversampled data is \",len(data_smote_X))\n",
    "#print(\"Number of normal transcation in oversampled data\",len(data_smote_y[data_smote_y[\"Class\"]==0]))\n",
    "#print(\"No.of fraud transcation\",len(data_smote_y[data_smote_y[\"Class\"]==1]))\n",
    "#print(\"Proportion of Normal data in oversampled data is \",len(data_smote_y[data_smote_y[\"Class\"]==0])/len(data_smote_X))\n",
    "#print(\"Proportion of fraud data in oversampled data is \",len(data_smote_y[data_smote_y[\"Class\"]==1])/len(data_smote_X))"
   ]
  },
  {
   "cell_type": "code",
   "execution_count": 39,
   "metadata": {},
   "outputs": [],
   "source": [
    "#data_smote_X[\"Normalized Amount\"] = StandardScaler().fit_transform(data_smote_X['Amount'].values.reshape(-1, 1))\n",
    "#data_smote_X.drop([\"Time\",\"Amount\"],axis=1,inplace=True)\n",
    "#data_smote_X[\"Normalized Amount\"] = StandardScaler().fit_transform(data_smote_X['Amount'].values.reshape(-1, 1))\n",
    "#data_smote_X.drop([\"Time\",\"Amount\"],axis=1,inplace=True)"
   ]
  },
  {
   "cell_type": "markdown",
   "metadata": {},
   "source": [
    "# Testing different Classification Models:"
   ]
  },
  {
   "cell_type": "markdown",
   "metadata": {},
   "source": [
    "We trained the models on the undersampled/oversampled data and then tested them on the original dataset."
   ]
  },
  {
   "cell_type": "markdown",
   "metadata": {},
   "source": [
    "# Model Report:"
   ]
  },
  {
   "cell_type": "code",
   "execution_count": 40,
   "metadata": {},
   "outputs": [],
   "source": [
    "def model_report(model):\n",
    "    \n",
    "    print(\"------------------------------------------------------------\")\n",
    "    print(\"                       Model Report                         \")\n",
    "    print(\"------------------------------------------------------------\")\n",
    "    #Model Score:\n",
    "    print('Model Score: ' + str(model.score(X_test,y_test)) + '\\n')\n",
    "    print(\"------------------------------------------------------------\")\n",
    "    #Confusion Matrix:\n",
    "    print('Confusion Matrix:')\n",
    "    conf_matrix = confusion_matrix(y_test, y_pred)\n",
    "    tp = conf_matrix[1,1]\n",
    "    fn = conf_matrix[1,0]\n",
    "    fp = conf_matrix[0,1]\n",
    "    tn = conf_matrix[0,0]\n",
    "    \n",
    "    print('TN:   ' +str(tn)+  '\\n''FP:   ' + str(fp)+ '\\n'\n",
    "          'FN:   ' +str(fn)+ '\\n' 'TP:   ' + str(tp)+ '\\n')\n",
    "    \n",
    "    sns.heatmap(conf_matrix,cmap=\"coolwarm_r\",annot=True,linewidths=0.5)\n",
    "    plt.title(\"Confusion_matrix\")\n",
    "    plt.xlabel(\"Predicted_class\")\n",
    "    plt.ylabel(\"Real class\")\n",
    "    plt.show()\n",
    "    print(\"------------------------------------------------------------\")\n",
    "    #Metrics + F1 Score:\n",
    "    Accuracy  =  ((tp+tn)/(tp+tn+fp+fn))\n",
    "    Precision =  (tp/(tp+fp))\n",
    "    Recall    =  (tp/(tp+fn))\n",
    "    F1_score  =  (2*(((tp/(tp+fp))*(tp/(tp+fn)))/((tp/(tp+fp))+(tp/(tp+fn)))))\n",
    "    print('Accuracy: ' +str(Accuracy)+ '\\n'\n",
    "          'Precision: ' + str(Precision) + '\\n'\n",
    "          'Recall: '+ str(Recall) + '\\n'\n",
    "          'F1-Score: ' + str(F1_score)+ '\\n')\n",
    "    print(\"------------------------------------------------------------\")\n",
    "    "
   ]
  },
  {
   "cell_type": "markdown",
   "metadata": {},
   "source": [
    "## Logistic Regression:"
   ]
  },
  {
   "cell_type": "markdown",
   "metadata": {},
   "source": [
    "#### Undersample:"
   ]
  },
  {
   "cell_type": "code",
   "execution_count": 64,
   "metadata": {},
   "outputs": [
    {
     "name": "stdout",
     "output_type": "stream",
     "text": [
      "The Undersample consists of: \n",
      "1968 (80.0%) normal transactions\n",
      "492 (20.0%) fraud transactions\n",
      "2460 total transactions\n"
     ]
    }
   ],
   "source": [
    "data_undersample = undersample(normal,fraud,4)"
   ]
  },
  {
   "cell_type": "code",
   "execution_count": 65,
   "metadata": {},
   "outputs": [
    {
     "name": "stdout",
     "output_type": "stream",
     "text": [
      "------------------------------------------------------------\n",
      "                       Model Report                         \n",
      "------------------------------------------------------------\n",
      "Model Score: 0.99571641246\n",
      "\n",
      "------------------------------------------------------------\n",
      "Confusion Matrix:\n",
      "TN:   70805\n",
      "FP:   285\n",
      "FN:   20\n",
      "TP:   92\n",
      "\n"
     ]
    },
    {
     "data": {
      "image/png": "[encoded data removed]",
      "text/plain": [
       "<Figure size 432x288 with 2 Axes>"
      ]
     },
     "metadata": {},
     "output_type": "display_data"
    },
    {
     "name": "stdout",
     "output_type": "stream",
     "text": [
      "------------------------------------------------------------\n",
      "Accuracy: 0.99571641246\n",
      "Precision: 0.244031830239\n",
      "Recall: 0.821428571429\n",
      "F1-Score: 0.376278118609\n",
      "\n",
      "------------------------------------------------------------\n",
      "CPU times: user 432 ms, sys: 257 ms, total: 690 ms\n",
      "Wall time: 1.41 s\n"
     ]
    }
   ],
   "source": [
    "%%time\n",
    "model = LogisticRegression()\n",
    "undersample_X_train, undersample_X_test, undersample_y_train, undersample_y_test = preprocessing(data_undersample)\n",
    "model.fit(undersample_X_train, undersample_y_train)\n",
    "y_pred = model.predict(X_test)\n",
    "model_report(model)"
   ]
  },
  {
   "cell_type": "markdown",
   "metadata": {},
   "source": [
    "#### Oversample:"
   ]
  },
  {
   "cell_type": "code",
   "execution_count": 91,
   "metadata": {},
   "outputs": [
    {
     "name": "stdout",
     "output_type": "stream",
     "text": [
      "------------------------------------------------------------\n",
      "                       Model Report                         \n",
      "------------------------------------------------------------\n",
      "Model Score: 0.249094126569\n",
      "\n",
      "------------------------------------------------------------\n",
      "Confusion Matrix:\n",
      "TN:   17619\n",
      "FP:   53461\n",
      "FN:   5\n",
      "TP:   117\n",
      "\n"
     ]
    },
    {
     "data": {
      "image/png": "[encoded data removed]",
      "text/plain": [
       "<Figure size 432x288 with 2 Axes>"
      ]
     },
     "metadata": {},
     "output_type": "display_data"
    },
    {
     "name": "stdout",
     "output_type": "stream",
     "text": [
      "------------------------------------------------------------\n",
      "Accuracy: 0.249094126569\n",
      "Precision: 0.00218373212886\n",
      "Recall: 0.959016393443\n",
      "F1-Score: 0.00435754189944\n",
      "\n",
      "------------------------------------------------------------\n",
      "CPU times: user 4.63 s, sys: 372 ms, total: 5 s\n",
      "Wall time: 10.1 s\n"
     ]
    }
   ],
   "source": [
    "%%time\n",
    "model = LogisticRegression()\n",
    "oversample_X_train, oversample_X_test, oversample_y_train, oversample_y_test = preprocessing(data_oversampling)\n",
    "model.fit(oversample_X_train,oversample_y_train)\n",
    "y_pred = model.predict(X_test)\n",
    "model_report(model)"
   ]
  },
  {
   "cell_type": "markdown",
   "metadata": {},
   "source": [
    "## SVM:"
   ]
  },
  {
   "cell_type": "markdown",
   "metadata": {},
   "source": [
    "#### Hyperparametertuning: SVM:"
   ]
  },
  {
   "cell_type": "code",
   "execution_count": 22,
   "metadata": {},
   "outputs": [
    {
     "name": "stdout",
     "output_type": "stream",
     "text": [
      "{'svc__C': 100, 'svc__gamma': 0.001}\n"
     ]
    }
   ],
   "source": [
    "from sklearn.pipeline import Pipeline \n",
    "from sklearn.preprocessing import StandardScaler\n",
    "from sklearn.neighbors import KNeighborsClassifier\n",
    "\n",
    "pipeline = Pipeline([\n",
    "    ('scaler', StandardScaler()),\n",
    "    ('svc', SVC())\n",
    "]\n",
    ")\n",
    "from sklearn.model_selection import GridSearchCV\n",
    "\n",
    "clf = GridSearchCV(pipeline, param_grid = {\n",
    "    'svc__C': [1, 10, 100, 1000], 'svc__gamma': [0.001, 0.0001]   \n",
    "}\n",
    ")\n",
    "clf.fit(undersample_X_train,undersample_y_train)\n",
    "\n",
    "print(clf.best_params_)"
   ]
  },
  {
   "cell_type": "markdown",
   "metadata": {},
   "source": [
    "#### Undersample:"
   ]
  },
  {
   "cell_type": "code",
   "execution_count": 67,
   "metadata": {},
   "outputs": [
    {
     "name": "stdout",
     "output_type": "stream",
     "text": [
      "------------------------------------------------------------\n",
      "                       Model Report                         \n",
      "------------------------------------------------------------\n",
      "Model Score: 0.980506165557\n",
      "\n",
      "------------------------------------------------------------\n",
      "Confusion Matrix:\n",
      "TN:   69722\n",
      "FP:   1368\n",
      "FN:   20\n",
      "TP:   92\n",
      "\n"
     ]
    },
    {
     "data": {
      "image/png": "[encoded data removed]",
      "text/plain": [
       "<Figure size 432x288 with 2 Axes>"
      ]
     },
     "metadata": {},
     "output_type": "display_data"
    },
    {
     "name": "stdout",
     "output_type": "stream",
     "text": [
      "------------------------------------------------------------\n",
      "Accuracy: 0.980506165557\n",
      "Precision: 0.0630136986301\n",
      "Recall: 0.821428571429\n",
      "F1-Score: 0.117048346056\n",
      "\n",
      "------------------------------------------------------------\n",
      "CPU times: user 15.4 s, sys: 167 ms, total: 15.6 s\n",
      "Wall time: 31.1 s\n"
     ]
    }
   ],
   "source": [
    "%%time\n",
    "model = SVC(C = 100, gamma = 0.001)\n",
    "undersample_X_train, undersample_X_test, undersample_y_train, undersample_y_test = preprocessing(data_undersample)\n",
    "model.fit(undersample_X_train, undersample_y_train)\n",
    "y_pred = model.predict(X_test)\n",
    "model_report(model)"
   ]
  },
  {
   "cell_type": "markdown",
   "metadata": {},
   "source": [
    "#### Oversample:"
   ]
  },
  {
   "cell_type": "code",
   "execution_count": 29,
   "metadata": {},
   "outputs": [],
   "source": [
    "#%%time\n",
    "#model = SVC()\n",
    "#oversample_X_train, oversample_X_test, oversample_y_train, oversample_y_test = preprocessing(data_oversampling)\n",
    "#model.fit(oversample_X_train,oversample_y_train)\n",
    "#y_pred = model.predict(X_test)\n",
    "#model_report(model)"
   ]
  },
  {
   "cell_type": "markdown",
   "metadata": {},
   "source": [
    "## Random Forest:"
   ]
  },
  {
   "cell_type": "markdown",
   "metadata": {},
   "source": [
    "#### Hyperparametertuning: Random Forest:"
   ]
  },
  {
   "cell_type": "code",
   "execution_count": 30,
   "metadata": {},
   "outputs": [
    {
     "name": "stdout",
     "output_type": "stream",
     "text": [
      "{'rf__bootstrap': True, 'rf__max_features': 'sqrt', 'rf__min_samples_leaf': 1, 'rf__min_samples_split': 5, 'rf__n_estimators': 9}\n"
     ]
    }
   ],
   "source": [
    "from sklearn.pipeline import Pipeline \n",
    "from sklearn.preprocessing import StandardScaler\n",
    "from sklearn.neighbors import KNeighborsClassifier\n",
    "\n",
    "pipeline = Pipeline([\n",
    "    ('scaler', StandardScaler()),\n",
    "    ('rf', RandomForestClassifier())\n",
    "]\n",
    ")\n",
    "from sklearn.model_selection import GridSearchCV\n",
    "\n",
    "clf = GridSearchCV(pipeline, param_grid = {\n",
    "    'rf__n_estimators': list(range(1, 16)),\n",
    "'rf__max_features' : ['auto', 'sqrt'],\n",
    "'rf__min_samples_split' : [2, 5, 10],\n",
    "'rf__min_samples_leaf' : [1, 2, 4],\n",
    "'rf__bootstrap' : [True, False]    \n",
    "}\n",
    ")\n",
    "clf.fit(undersample_X_train,undersample_y_train)\n",
    "\n",
    "print(clf.best_params_)"
   ]
  },
  {
   "cell_type": "markdown",
   "metadata": {},
   "source": [
    "#### Undersample:"
   ]
  },
  {
   "cell_type": "code",
   "execution_count": 68,
   "metadata": {},
   "outputs": [
    {
     "name": "stdout",
     "output_type": "stream",
     "text": [
      "------------------------------------------------------------\n",
      "                       Model Report                         \n",
      "------------------------------------------------------------\n",
      "Model Score: 0.995786635207\n",
      "\n",
      "------------------------------------------------------------\n",
      "Confusion Matrix:\n",
      "TN:   70796\n",
      "FP:   294\n",
      "FN:   6\n",
      "TP:   106\n",
      "\n"
     ]
    },
    {
     "data": {
      "image/png": "[encoded data removed]",
      "text/plain": [
       "<Figure size 432x288 with 2 Axes>"
      ]
     },
     "metadata": {},
     "output_type": "display_data"
    },
    {
     "name": "stdout",
     "output_type": "stream",
     "text": [
      "------------------------------------------------------------\n",
      "Accuracy: 0.995786635207\n",
      "Precision: 0.265\n",
      "Recall: 0.946428571429\n",
      "F1-Score: 0.4140625\n",
      "\n",
      "------------------------------------------------------------\n",
      "CPU times: user 646 ms, sys: 169 ms, total: 815 ms\n",
      "Wall time: 1.69 s\n"
     ]
    }
   ],
   "source": [
    "%%time\n",
    "model = RandomForestClassifier(n_estimators = 9,max_features = 'auto', bootstrap = 1, min_samples_leaf = 1,min_samples_split=5 )\n",
    "undersample_X_train, undersample_X_test, undersample_y_train, undersample_y_test = preprocessing(data_undersample)\n",
    "model.fit(undersample_X_train, undersample_y_train)\n",
    "y_pred = model.predict(X_test)\n",
    "model_report(model)"
   ]
  },
  {
   "cell_type": "markdown",
   "metadata": {},
   "source": [
    "#### Oversample:"
   ]
  },
  {
   "cell_type": "code",
   "execution_count": null,
   "metadata": {},
   "outputs": [],
   "source": [
    "#%%time\n",
    "#model = RandomForestClassifier(n_estimators = 11)\n",
    "#oversample_X_train, oversample_X_test, oversample_y_train, oversample_y_test = preprocessing(data_oversampling)\n",
    "#model.fit(oversample_X_train,oversample_y_train)\n",
    "#y_pred = model.predict(X_test)\n",
    "#model_report(model)"
   ]
  },
  {
   "cell_type": "markdown",
   "metadata": {},
   "source": [
    "### KNN:"
   ]
  },
  {
   "cell_type": "markdown",
   "metadata": {},
   "source": [
    "#### Hyperparametertuning: KNeigbhors:"
   ]
  },
  {
   "cell_type": "code",
   "execution_count": 33,
   "metadata": {},
   "outputs": [
    {
     "name": "stdout",
     "output_type": "stream",
     "text": [
      "{'knn__n_neighbors': 9, 'knn__p': 1}\n"
     ]
    }
   ],
   "source": [
    "from sklearn.pipeline import Pipeline \n",
    "from sklearn.preprocessing import StandardScaler\n",
    "from sklearn.neighbors import KNeighborsClassifier\n",
    "\n",
    "pipeline = Pipeline([\n",
    "    ('scaler', StandardScaler()),\n",
    "    ('knn', KNeighborsClassifier())\n",
    "]\n",
    ")\n",
    "from sklearn.model_selection import GridSearchCV\n",
    "\n",
    "clf = GridSearchCV(pipeline, param_grid = {\n",
    "    'knn__n_neighbors': [1,2,3,4,5,6,7,8,9],\n",
    "    'knn__p':[1,2] }\n",
    ")\n",
    "clf.fit(undersample_X_train,undersample_y_train)\n",
    "\n",
    "print(clf.best_params_)"
   ]
  },
  {
   "cell_type": "markdown",
   "metadata": {},
   "source": [
    "#### Undersample:"
   ]
  },
  {
   "cell_type": "code",
   "execution_count": 69,
   "metadata": {},
   "outputs": [
    {
     "name": "stdout",
     "output_type": "stream",
     "text": [
      "------------------------------------------------------------\n",
      "                       Model Report                         \n",
      "------------------------------------------------------------\n",
      "Model Score: 0.947993033904\n",
      "\n",
      "------------------------------------------------------------\n",
      "Confusion Matrix:\n",
      "TN:   67433\n",
      "FP:   3657\n",
      "FN:   46\n",
      "TP:   66\n",
      "\n"
     ]
    },
    {
     "data": {
      "image/png": "[encoded data removed]",
      "text/plain": [
       "<Figure size 432x288 with 2 Axes>"
      ]
     },
     "metadata": {},
     "output_type": "display_data"
    },
    {
     "name": "stdout",
     "output_type": "stream",
     "text": [
      "------------------------------------------------------------\n",
      "Accuracy: 0.947993033904\n",
      "Precision: 0.0177276390008\n",
      "Recall: 0.589285714286\n",
      "F1-Score: 0.0344198174707\n",
      "\n",
      "------------------------------------------------------------\n",
      "CPU times: user 1.78 s, sys: 157 ms, total: 1.94 s\n",
      "Wall time: 3.97 s\n"
     ]
    }
   ],
   "source": [
    "%%time\n",
    "model =  KNeighborsClassifier(n_neighbors = 3, p =1)\n",
    "oversample_X_train, oversample_X_test, oversample_y_train, oversample_y_test = preprocessing(data_undersample)\n",
    "model.fit(oversample_X_train,oversample_y_train)\n",
    "y_pred = model.predict(X_test)\n",
    "model_report(model)"
   ]
  },
  {
   "cell_type": "markdown",
   "metadata": {},
   "source": [
    "#### Oversample:"
   ]
  },
  {
   "cell_type": "code",
   "execution_count": null,
   "metadata": {},
   "outputs": [],
   "source": [
    "#%%time\n",
    "#model =  KNeighborsClassifier()\n",
    "#oversample_X_train, oversample_X_test, oversample_y_train, oversample_y_test = preprocessing(data_oversampling)\n",
    "#model.fit(oversample_X_train,oversample_y_train)\n",
    "#y_pred = model.predict(X_test)\n",
    "#model_report(model)"
   ]
  },
  {
   "cell_type": "markdown",
   "metadata": {},
   "source": [
    "### LGBM:"
   ]
  },
  {
   "cell_type": "markdown",
   "metadata": {},
   "source": [
    "##### Hyperparametertuning: LGBM"
   ]
  },
  {
   "cell_type": "code",
   "execution_count": 15,
   "metadata": {},
   "outputs": [
    {
     "name": "stdout",
     "output_type": "stream",
     "text": [
      "{'lgb__n_estimators': 15, 'lgb__num_leaves': 3}\n"
     ]
    }
   ],
   "source": [
    "from sklearn.pipeline import Pipeline \n",
    "from sklearn.preprocessing import StandardScaler\n",
    "from sklearn.neighbors import KNeighborsClassifier\n",
    "\n",
    "pipeline = Pipeline([\n",
    "    ('scaler', StandardScaler()),\n",
    "    ('lgb', lgb.LGBMClassifier())\n",
    "]\n",
    ")\n",
    "from sklearn.model_selection import GridSearchCV\n",
    "\n",
    "clf = GridSearchCV(pipeline, param_grid = {\n",
    "    'lgb__num_leaves': list(range(2, 10))  ,\n",
    "    'lgb__n_estimators':list(range(1, 20))\n",
    "}\n",
    ")\n",
    "clf.fit(undersample_X_train,undersample_y_train)\n",
    "\n",
    "print(clf.best_params_)"
   ]
  },
  {
   "cell_type": "markdown",
   "metadata": {},
   "source": [
    "#### Undersample:"
   ]
  },
  {
   "cell_type": "code",
   "execution_count": 70,
   "metadata": {},
   "outputs": [
    {
     "name": "stdout",
     "output_type": "stream",
     "text": [
      "------------------------------------------------------------\n",
      "                       Model Report                         \n",
      "------------------------------------------------------------\n",
      "Model Score: 0.996348417179\n",
      "\n",
      "------------------------------------------------------------\n",
      "Confusion Matrix:\n",
      "TN:   70847\n",
      "FP:   243\n",
      "FN:   17\n",
      "TP:   95\n",
      "\n"
     ]
    },
    {
     "data": {
      "image/png": "[encoded data removed]",
      "text/plain": [
       "<Figure size 432x288 with 2 Axes>"
      ]
     },
     "metadata": {},
     "output_type": "display_data"
    },
    {
     "name": "stdout",
     "output_type": "stream",
     "text": [
      "------------------------------------------------------------\n",
      "Accuracy: 0.996348417179\n",
      "Precision: 0.281065088757\n",
      "Recall: 0.848214285714\n",
      "F1-Score: 0.422222222222\n",
      "\n",
      "------------------------------------------------------------\n",
      "CPU times: user 577 ms, sys: 185 ms, total: 762 ms\n",
      "Wall time: 1.59 s\n"
     ]
    }
   ],
   "source": [
    "%%time\n",
    "lgbm_clf = lgb.LGBMClassifier(n_estimators= 15, num_leaves =3 )\n",
    "lgbm_clf.fit(undersample_X_train, undersample_y_train)\n",
    "y_pred = lgbm_clf.predict(X_test)\n",
    "model_report(lgbm_clf)"
   ]
  },
  {
   "cell_type": "markdown",
   "metadata": {},
   "source": [
    "#### Oversample:"
   ]
  },
  {
   "cell_type": "code",
   "execution_count": null,
   "metadata": {},
   "outputs": [],
   "source": [
    "%%time\n",
    "lgbm_clf = lgb.LGBMClassifier(n_estimators= 15, num_leaves =3 )\n",
    "lgbm_clf.fit(oversample_X_train, oversample_y_train)\n",
    "y_pred = lgbm_clf.predict(X_test)\n",
    "model_report(lgbm_clf)"
   ]
  },
  {
   "cell_type": "markdown",
   "metadata": {},
   "source": [
    "### XGBOOST:"
   ]
  },
  {
   "cell_type": "markdown",
   "metadata": {},
   "source": [
    "##### Hyperparametertuning: XGBoost"
   ]
  },
  {
   "cell_type": "markdown",
   "metadata": {},
   "source": [
    "###  Kernel dies!"
   ]
  },
  {
   "cell_type": "code",
   "execution_count": null,
   "metadata": {},
   "outputs": [],
   "source": [
    "from sklearn.pipeline import Pipeline \n",
    "from sklearn.preprocessing import StandardScaler\n",
    "from sklearn.neighbors import KNeighborsClassifier\n",
    "\n",
    "pipeline = Pipeline([\n",
    "    ('scaler', StandardScaler()),\n",
    "    ('xgb', xgb.XGBClassifier())\n",
    "]\n",
    ")\n",
    "from sklearn.model_selection import GridSearchCV\n",
    "\n",
    "clf = GridSearchCV(pipeline, param_grid = {\n",
    "    'xgb__gamma':[i/10.0 for i in range(0,5)],\n",
    "    'xgb__min_child_weight':[6,8,10,12],\n",
    "    'xgb__max_depth':[4,5,6],\n",
    "    'xgb__n_estimators' :list(range(1, 100))\n",
    "}\n",
    ")\n",
    "clf.fit(undersample_X_train,undersample_y_train)\n",
    "\n",
    "print(clf.best_params_)"
   ]
  },
  {
   "cell_type": "markdown",
   "metadata": {},
   "source": [
    "#### Undersample:"
   ]
  },
  {
   "cell_type": "code",
   "execution_count": 71,
   "metadata": {
    "scrolled": true
   },
   "outputs": [
    {
     "name": "stdout",
     "output_type": "stream",
     "text": [
      "------------------------------------------------------------\n",
      "                       Model Report                         \n",
      "------------------------------------------------------------\n",
      "Model Score: 0.994578803966\n",
      "\n",
      "------------------------------------------------------------\n",
      "Confusion Matrix:\n",
      "TN:   70708\n",
      "FP:   382\n",
      "FN:   4\n",
      "TP:   108\n",
      "\n"
     ]
    },
    {
     "data": {
      "image/png": "[encoded data removed]",
      "text/plain": [
       "<Figure size 432x288 with 2 Axes>"
      ]
     },
     "metadata": {},
     "output_type": "display_data"
    },
    {
     "name": "stdout",
     "output_type": "stream",
     "text": [
      "------------------------------------------------------------\n",
      "Accuracy: 0.994578803966\n",
      "Precision: 0.220408163265\n",
      "Recall: 0.964285714286\n",
      "F1-Score: 0.358803986711\n",
      "\n",
      "------------------------------------------------------------\n",
      "CPU times: user 1.48 s, sys: 146 ms, total: 1.63 s\n",
      "Wall time: 3.31 s\n"
     ]
    }
   ],
   "source": [
    "%%time\n",
    "xgb_clas = xgb.XGBClassifier()\n",
    "xgb_clas.fit(undersample_X_train,undersample_y_train)\n",
    "y_pred = xgb_clas.predict(X_test)\n",
    "model_report(xgb_clas)"
   ]
  },
  {
   "cell_type": "markdown",
   "metadata": {},
   "source": [
    "#### Oversample:"
   ]
  },
  {
   "cell_type": "code",
   "execution_count": null,
   "metadata": {},
   "outputs": [],
   "source": [
    "%%time\n",
    "xgb_clas = xgb.XGBClassifier()\n",
    "xgb_clas.fit(oversample_X_train,oversample_y_train)\n",
    "X_test.rename(columns={'Amount':'Normalized Amount'}, inplace=True)\n",
    "y_pred = xgb_clas.predict(X_test)\n",
    "model_report(xgb_clas)"
   ]
  },
  {
   "cell_type": "markdown",
   "metadata": {},
   "source": [
    "# How accurate would our model be if we drop some dimensions? (PCA)"
   ]
  },
  {
   "cell_type": "markdown",
   "metadata": {},
   "source": [
    "- How much accuracy to we lose if we set the number of components to 10?\n",
    "- How much faster do our models get?"
   ]
  },
  {
   "cell_type": "markdown",
   "metadata": {},
   "source": [
    "## Undersampled Data:"
   ]
  },
  {
   "cell_type": "code",
   "execution_count": 26,
   "metadata": {},
   "outputs": [],
   "source": [
    "## Naming Conventions:\n",
    "X_train, X_test, y_train, y_test = preprocessing(data_undersample)"
   ]
  },
  {
   "cell_type": "code",
   "execution_count": 27,
   "metadata": {},
   "outputs": [],
   "source": [
    "from sklearn.preprocessing import StandardScaler\n",
    "\n",
    "s = StandardScaler()\n",
    "X_train = s.fit_transform(X_train)\n",
    "X_test = s.transform(X_test)\n"
   ]
  },
  {
   "cell_type": "code",
   "execution_count": 28,
   "metadata": {},
   "outputs": [],
   "source": [
    "from sklearn.decomposition import PCA\n",
    "\n",
    "p = PCA (n_components = 10)\n",
    "\n",
    "X_train_transformed = p.fit_transform(X_train)\n",
    "X_test_transformed = p.fit_transform(X_test)\n"
   ]
  },
  {
   "cell_type": "markdown",
   "metadata": {},
   "source": [
    "### Logistic Regression"
   ]
  },
  {
   "cell_type": "code",
   "execution_count": 49,
   "metadata": {},
   "outputs": [
    {
     "name": "stdout",
     "output_type": "stream",
     "text": [
      "------------------------------------------------------------\n",
      "                       Model Report                         \n",
      "------------------------------------------------------------\n",
      "Model Score: 0.89701897019\n",
      "\n",
      "------------------------------------------------------------\n",
      "Confusion Matrix:\n",
      "TN:   235\n",
      "FP:   16\n",
      "FN:   22\n",
      "TP:   96\n",
      "\n"
     ]
    },
    {
     "data": {
      "image/png": "[encoded data removed]",
      "text/plain": [
       "<Figure size 432x288 with 2 Axes>"
      ]
     },
     "metadata": {},
     "output_type": "display_data"
    },
    {
     "name": "stdout",
     "output_type": "stream",
     "text": [
      "------------------------------------------------------------\n",
      "Accuracy: 0.89701897019\n",
      "Precision: 0.857142857143\n",
      "Recall: 0.813559322034\n",
      "F1-Score: 0.834782608696\n",
      "\n",
      "------------------------------------------------------------\n",
      "CPU times: user 329 ms, sys: 198 ms, total: 527 ms\n",
      "Wall time: 989 ms\n"
     ]
    }
   ],
   "source": [
    "%%time\n",
    "model = LogisticRegression()\n",
    "model.fit(X_train_transformed,y_train)\n",
    "y_pred = model.predict(X_test_transformed)\n",
    "X_test = X_test_transformed\n",
    "model_report(model)"
   ]
  },
  {
   "cell_type": "markdown",
   "metadata": {},
   "source": [
    "### SVM:"
   ]
  },
  {
   "cell_type": "code",
   "execution_count": 29,
   "metadata": {},
   "outputs": [
    {
     "name": "stdout",
     "output_type": "stream",
     "text": [
      "------------------------------------------------------------\n",
      "                       Model Report                         \n",
      "------------------------------------------------------------\n",
      "Model Score: 0.943089430894\n",
      "\n",
      "------------------------------------------------------------\n",
      "Confusion Matrix:\n",
      "TN:   246\n",
      "FP:   0\n",
      "FN:   21\n",
      "TP:   102\n",
      "\n"
     ]
    },
    {
     "data": {
      "image/png": "[encoded data removed]",
      "text/plain": [
       "<Figure size 432x288 with 2 Axes>"
      ]
     },
     "metadata": {},
     "output_type": "display_data"
    },
    {
     "name": "stdout",
     "output_type": "stream",
     "text": [
      "------------------------------------------------------------\n",
      "Accuracy: 0.943089430894\n",
      "Precision: 1.0\n",
      "Recall: 0.829268292683\n",
      "F1-Score: 0.906666666667\n",
      "\n",
      "------------------------------------------------------------\n",
      "CPU times: user 310 ms, sys: 184 ms, total: 494 ms\n",
      "Wall time: 1.04 s\n"
     ]
    }
   ],
   "source": [
    "%%time\n",
    "model = SVC(C = 100, gamma = 0.001)\n",
    "model.fit(X_train_transformed,y_train)\n",
    "y_pred = model.predict(X_test_transformed)\n",
    "X_test = X_test_transformed\n",
    "model_report(model)"
   ]
  },
  {
   "cell_type": "markdown",
   "metadata": {},
   "source": [
    "### K-Neighbors:"
   ]
  },
  {
   "cell_type": "code",
   "execution_count": 51,
   "metadata": {},
   "outputs": [
    {
     "name": "stdout",
     "output_type": "stream",
     "text": [
      "------------------------------------------------------------\n",
      "                       Model Report                         \n",
      "------------------------------------------------------------\n",
      "Model Score: 0.886178861789\n",
      "\n",
      "------------------------------------------------------------\n",
      "Confusion Matrix:\n",
      "TN:   242\n",
      "FP:   9\n",
      "FN:   33\n",
      "TP:   85\n",
      "\n"
     ]
    },
    {
     "data": {
      "image/png": "[encoded data removed]",
      "text/plain": [
       "<Figure size 432x288 with 2 Axes>"
      ]
     },
     "metadata": {},
     "output_type": "display_data"
    },
    {
     "name": "stdout",
     "output_type": "stream",
     "text": [
      "------------------------------------------------------------\n",
      "Accuracy: 0.886178861789\n",
      "Precision: 0.904255319149\n",
      "Recall: 0.720338983051\n",
      "F1-Score: 0.801886792453\n",
      "\n",
      "------------------------------------------------------------\n",
      "CPU times: user 327 ms, sys: 220 ms, total: 547 ms\n",
      "Wall time: 1.11 s\n"
     ]
    }
   ],
   "source": [
    "%%time\n",
    "model = KNeighborsClassifier(n_neighbors = 3, p =1)\n",
    "model.fit(X_train_transformed,y_train)\n",
    "y_pred = model.predict(X_test_transformed)\n",
    "X_test = X_test_transformed\n",
    "model_report(model)"
   ]
  },
  {
   "cell_type": "markdown",
   "metadata": {},
   "source": [
    "### Random Forest:"
   ]
  },
  {
   "cell_type": "code",
   "execution_count": 52,
   "metadata": {},
   "outputs": [
    {
     "name": "stdout",
     "output_type": "stream",
     "text": [
      "------------------------------------------------------------\n",
      "                       Model Report                         \n",
      "------------------------------------------------------------\n",
      "Model Score: 0.888888888889\n",
      "\n",
      "------------------------------------------------------------\n",
      "Confusion Matrix:\n",
      "TN:   231\n",
      "FP:   20\n",
      "FN:   21\n",
      "TP:   97\n",
      "\n"
     ]
    },
    {
     "data": {
      "image/png": "[encoded data removed]",
      "text/plain": [
       "<Figure size 432x288 with 2 Axes>"
      ]
     },
     "metadata": {},
     "output_type": "display_data"
    },
    {
     "name": "stdout",
     "output_type": "stream",
     "text": [
      "------------------------------------------------------------\n",
      "Accuracy: 0.888888888889\n",
      "Precision: 0.82905982906\n",
      "Recall: 0.822033898305\n",
      "F1-Score: 0.825531914894\n",
      "\n",
      "------------------------------------------------------------\n",
      "CPU times: user 334 ms, sys: 174 ms, total: 508 ms\n",
      "Wall time: 1.09 s\n"
     ]
    }
   ],
   "source": [
    "%%time\n",
    "model = RandomForestClassifier(n_estimators = 9,max_features = 'auto', bootstrap = 1, min_samples_leaf = 1,min_samples_split=5 )\n",
    "model.fit(X_train_transformed,y_train)\n",
    "y_pred = model.predict(X_test_transformed)\n",
    "X_test = X_test_transformed\n",
    "model_report(model)"
   ]
  },
  {
   "cell_type": "markdown",
   "metadata": {},
   "source": [
    "### LGBM:"
   ]
  },
  {
   "cell_type": "code",
   "execution_count": 53,
   "metadata": {},
   "outputs": [
    {
     "name": "stdout",
     "output_type": "stream",
     "text": [
      "------------------------------------------------------------\n",
      "                       Model Report                         \n",
      "------------------------------------------------------------\n",
      "Model Score: 0.90243902439\n",
      "\n",
      "------------------------------------------------------------\n",
      "Confusion Matrix:\n",
      "TN:   237\n",
      "FP:   14\n",
      "FN:   22\n",
      "TP:   96\n",
      "\n"
     ]
    },
    {
     "data": {
      "image/png": "[encoded data removed]",
      "text/plain": [
       "<Figure size 432x288 with 2 Axes>"
      ]
     },
     "metadata": {},
     "output_type": "display_data"
    },
    {
     "name": "stdout",
     "output_type": "stream",
     "text": [
      "------------------------------------------------------------\n",
      "Accuracy: 0.90243902439\n",
      "Precision: 0.872727272727\n",
      "Recall: 0.813559322034\n",
      "F1-Score: 0.842105263158\n",
      "\n",
      "------------------------------------------------------------\n",
      "CPU times: user 540 ms, sys: 164 ms, total: 704 ms\n",
      "Wall time: 1.42 s\n"
     ]
    }
   ],
   "source": [
    "%%time\n",
    "lgbm_clf = lgb.LGBMClassifier(n_estimators= 15, num_leaves =3 )\n",
    "lgbm_clf.fit(X_train_transformed,y_train)\n",
    "y_pred = lgbm_clf.predict(X_test_transformed)\n",
    "model_report(lgbm_clf)"
   ]
  },
  {
   "cell_type": "markdown",
   "metadata": {},
   "source": [
    "### XGBoost:"
   ]
  },
  {
   "cell_type": "code",
   "execution_count": 54,
   "metadata": {
    "scrolled": true
   },
   "outputs": [
    {
     "name": "stdout",
     "output_type": "stream",
     "text": [
      "------------------------------------------------------------\n",
      "                       Model Report                         \n",
      "------------------------------------------------------------\n",
      "Model Score: 0.915989159892\n",
      "\n",
      "------------------------------------------------------------\n",
      "Confusion Matrix:\n",
      "TN:   243\n",
      "FP:   8\n",
      "FN:   23\n",
      "TP:   95\n",
      "\n"
     ]
    },
    {
     "data": {
      "image/png": "[encoded data removed]",
      "text/plain": [
       "<Figure size 432x288 with 2 Axes>"
      ]
     },
     "metadata": {},
     "output_type": "display_data"
    },
    {
     "name": "stdout",
     "output_type": "stream",
     "text": [
      "------------------------------------------------------------\n",
      "Accuracy: 0.915989159892\n",
      "Precision: 0.922330097087\n",
      "Recall: 0.805084745763\n",
      "F1-Score: 0.859728506787\n",
      "\n",
      "------------------------------------------------------------\n",
      "CPU times: user 395 ms, sys: 210 ms, total: 605 ms\n",
      "Wall time: 1.17 s\n"
     ]
    }
   ],
   "source": [
    "%%time\n",
    "xgb_clas = xgb.XGBClassifier()\n",
    "xgb_clas.fit(X_train_transformed,y_train)\n",
    "#X_test.rename(columns={'Amount':'Normalized Amount'}, inplace=True)\n",
    "y_pred = xgb_clas.predict(X_test_transformed)\n",
    "model_report(xgb_clas)"
   ]
  },
  {
   "cell_type": "markdown",
   "metadata": {},
   "source": [
    "## PCA (with oversampled data)"
   ]
  },
  {
   "cell_type": "code",
   "execution_count": 41,
   "metadata": {},
   "outputs": [],
   "source": [
    "## Naming Conventions:\n",
    "X_train, X_test, y_train, y_test = preprocessing(data_oversampling)"
   ]
  },
  {
   "cell_type": "code",
   "execution_count": 42,
   "metadata": {},
   "outputs": [],
   "source": [
    "from sklearn.preprocessing import StandardScaler\n",
    "\n",
    "s = StandardScaler()\n",
    "X_train = s.fit_transform(X_train)\n",
    "X_test = s.transform(X_test)\n"
   ]
  },
  {
   "cell_type": "code",
   "execution_count": 43,
   "metadata": {},
   "outputs": [],
   "source": [
    "from sklearn.decomposition import PCA\n",
    "\n",
    "p = PCA (n_components = 10)\n",
    "\n",
    "X_train_transformed = p.fit_transform(X_train)\n",
    "X_test_transformed = p.fit_transform(X_test)\n"
   ]
  },
  {
   "cell_type": "markdown",
   "metadata": {},
   "source": [
    "### Logistic Regression"
   ]
  },
  {
   "cell_type": "code",
   "execution_count": 44,
   "metadata": {},
   "outputs": [
    {
     "name": "stdout",
     "output_type": "stream",
     "text": [
      "------------------------------------------------------------\n",
      "                       Model Report                         \n",
      "------------------------------------------------------------\n",
      "Model Score: 0.949260559328\n",
      "\n",
      "------------------------------------------------------------\n",
      "Confusion Matrix:\n",
      "TN:   52945\n",
      "FP:   412\n",
      "FN:   3115\n",
      "TP:   13040\n",
      "\n"
     ]
    },
    {
     "data": {
      "image/png": "[encoded data removed]",
      "text/plain": [
       "<Figure size 432x288 with 2 Axes>"
      ]
     },
     "metadata": {},
     "output_type": "display_data"
    },
    {
     "name": "stdout",
     "output_type": "stream",
     "text": [
      "------------------------------------------------------------\n",
      "Accuracy: 0.949260559328\n",
      "Precision: 0.969372584002\n",
      "Recall: 0.807180439492\n",
      "F1-Score: 0.880872766575\n",
      "\n",
      "------------------------------------------------------------\n",
      "CPU times: user 2.01 s, sys: 306 ms, total: 2.32 s\n",
      "Wall time: 4.7 s\n"
     ]
    }
   ],
   "source": [
    "%%time\n",
    "model = LogisticRegression()\n",
    "model.fit(X_train_transformed,y_train)\n",
    "y_pred = model.predict(X_test_transformed)\n",
    "X_test = X_test_transformed\n",
    "model_report(model)"
   ]
  },
  {
   "cell_type": "markdown",
   "metadata": {},
   "source": [
    "### SVM:"
   ]
  },
  {
   "cell_type": "code",
   "execution_count": 45,
   "metadata": {},
   "outputs": [
    {
     "name": "stdout",
     "output_type": "stream",
     "text": [
      "------------------------------------------------------------\n",
      "                       Model Report                         \n",
      "------------------------------------------------------------\n",
      "Model Score: 0.94326159512\n",
      "\n",
      "------------------------------------------------------------\n",
      "Confusion Matrix:\n",
      "TN:   53056\n",
      "FP:   301\n",
      "FN:   3643\n",
      "TP:   12512\n",
      "\n"
     ]
    },
    {
     "data": {
      "image/png": "[encoded data removed]",
      "text/plain": [
       "<Figure size 432x288 with 2 Axes>"
      ]
     },
     "metadata": {},
     "output_type": "display_data"
    },
    {
     "name": "stdout",
     "output_type": "stream",
     "text": [
      "------------------------------------------------------------\n",
      "Accuracy: 0.94326159512\n",
      "Precision: 0.976508233825\n",
      "Recall: 0.774497059734\n",
      "F1-Score: 0.863849765258\n",
      "\n",
      "------------------------------------------------------------\n",
      "CPU times: user 11min 44s, sys: 470 ms, total: 11min 45s\n",
      "Wall time: 23min 32s\n"
     ]
    }
   ],
   "source": [
    "%%time\n",
    "model = SVC(C = 100, gamma = 0.001)\n",
    "model.fit(X_train_transformed,y_train)\n",
    "y_pred = model.predict(X_test_transformed)\n",
    "X_test = X_test_transformed\n",
    "model_report(model)"
   ]
  },
  {
   "cell_type": "markdown",
   "metadata": {},
   "source": [
    "### K-Neighbors:"
   ]
  },
  {
   "cell_type": "code",
   "execution_count": 46,
   "metadata": {},
   "outputs": [
    {
     "name": "stdout",
     "output_type": "stream",
     "text": [
      "------------------------------------------------------------\n",
      "                       Model Report                         \n",
      "------------------------------------------------------------\n",
      "Model Score: 0.936399470595\n",
      "\n",
      "------------------------------------------------------------\n",
      "Confusion Matrix:\n",
      "TN:   53307\n",
      "FP:   50\n",
      "FN:   4371\n",
      "TP:   11784\n",
      "\n"
     ]
    },
    {
     "data": {
      "image/png": "[encoded data removed]",
      "text/plain": [
       "<Figure size 432x288 with 2 Axes>"
      ]
     },
     "metadata": {},
     "output_type": "display_data"
    },
    {
     "name": "stdout",
     "output_type": "stream",
     "text": [
      "------------------------------------------------------------\n",
      "Accuracy: 0.936399470595\n",
      "Precision: 0.995774885922\n",
      "Recall: 0.729433611885\n",
      "F1-Score: 0.842045089142\n",
      "\n",
      "------------------------------------------------------------\n",
      "CPU times: user 5min 47s, sys: 258 ms, total: 5min 48s\n",
      "Wall time: 11min 37s\n"
     ]
    }
   ],
   "source": [
    "%%time\n",
    "model = KNeighborsClassifier(n_neighbors = 3, p =1)\n",
    "model.fit(X_train_transformed,y_train)\n",
    "y_pred = model.predict(X_test_transformed)\n",
    "X_test = X_test_transformed\n",
    "model_report(model)"
   ]
  },
  {
   "cell_type": "markdown",
   "metadata": {},
   "source": [
    "### Random Forest:"
   ]
  },
  {
   "cell_type": "code",
   "execution_count": 47,
   "metadata": {},
   "outputs": [
    {
     "name": "stdout",
     "output_type": "stream",
     "text": [
      "------------------------------------------------------------\n",
      "                       Model Report                         \n",
      "------------------------------------------------------------\n",
      "Model Score: 0.949044769248\n",
      "\n",
      "------------------------------------------------------------\n",
      "Confusion Matrix:\n",
      "TN:   53345\n",
      "FP:   12\n",
      "FN:   3530\n",
      "TP:   12625\n",
      "\n"
     ]
    },
    {
     "data": {
      "image/png": "[encoded data removed]",
      "text/plain": [
       "<Figure size 432x288 with 2 Axes>"
      ]
     },
     "metadata": {},
     "output_type": "display_data"
    },
    {
     "name": "stdout",
     "output_type": "stream",
     "text": [
      "------------------------------------------------------------\n",
      "Accuracy: 0.949044769248\n",
      "Precision: 0.999050407533\n",
      "Recall: 0.781491798205\n",
      "F1-Score: 0.876979716588\n",
      "\n",
      "------------------------------------------------------------\n",
      "CPU times: user 7.94 s, sys: 196 ms, total: 8.14 s\n",
      "Wall time: 16.3 s\n"
     ]
    }
   ],
   "source": [
    "%%time\n",
    "model = RandomForestClassifier(n_estimators = 9,max_features = 'auto', bootstrap = 1, min_samples_leaf = 1,min_samples_split=5 )\n",
    "model.fit(X_train_transformed,y_train)\n",
    "y_pred = model.predict(X_test_transformed)\n",
    "X_test = X_test_transformed\n",
    "model_report(model)"
   ]
  },
  {
   "cell_type": "markdown",
   "metadata": {},
   "source": [
    "### LGBM:"
   ]
  },
  {
   "cell_type": "code",
   "execution_count": 48,
   "metadata": {},
   "outputs": [
    {
     "name": "stdout",
     "output_type": "stream",
     "text": [
      "------------------------------------------------------------\n",
      "                       Model Report                         \n",
      "------------------------------------------------------------\n",
      "Model Score: 0.953403728853\n",
      "\n",
      "------------------------------------------------------------\n",
      "Confusion Matrix:\n",
      "TN:   53222\n",
      "FP:   135\n",
      "FN:   3104\n",
      "TP:   13051\n",
      "\n"
     ]
    },
    {
     "data": {
      "image/png": "[encoded data removed]",
      "text/plain": [
       "<Figure size 432x288 with 2 Axes>"
      ]
     },
     "metadata": {},
     "output_type": "display_data"
    },
    {
     "name": "stdout",
     "output_type": "stream",
     "text": [
      "------------------------------------------------------------\n",
      "Accuracy: 0.953403728853\n",
      "Precision: 0.989761868649\n",
      "Recall: 0.807861343237\n",
      "F1-Score: 0.889608397805\n",
      "\n",
      "------------------------------------------------------------\n",
      "CPU times: user 5.2 s, sys: 776 ms, total: 5.98 s\n",
      "Wall time: 12 s\n"
     ]
    }
   ],
   "source": [
    "%%time\n",
    "lgbm_clf = lgb.LGBMClassifier(n_estimators= 15, num_leaves =3 )\n",
    "lgbm_clf.fit(X_train_transformed,y_train)\n",
    "y_pred = lgbm_clf.predict(X_test_transformed)\n",
    "model_report(lgbm_clf)"
   ]
  },
  {
   "cell_type": "markdown",
   "metadata": {},
   "source": [
    "### XGBoost:"
   ]
  },
  {
   "cell_type": "code",
   "execution_count": 49,
   "metadata": {
    "scrolled": true
   },
   "outputs": [
    {
     "name": "stdout",
     "output_type": "stream",
     "text": [
      "------------------------------------------------------------\n",
      "                       Model Report                         \n",
      "------------------------------------------------------------\n",
      "Model Score: 0.952569340546\n",
      "\n",
      "------------------------------------------------------------\n",
      "Confusion Matrix:\n",
      "TN:   53252\n",
      "FP:   105\n",
      "FN:   3192\n",
      "TP:   12963\n",
      "\n"
     ]
    },
    {
     "data": {
      "image/png": "[encoded data removed]",
      "text/plain": [
       "<Figure size 432x288 with 2 Axes>"
      ]
     },
     "metadata": {},
     "output_type": "display_data"
    },
    {
     "name": "stdout",
     "output_type": "stream",
     "text": [
      "------------------------------------------------------------\n",
      "Accuracy: 0.952569340546\n",
      "Precision: 0.991965105601\n",
      "Recall: 0.802414113278\n",
      "F1-Score: 0.887177907812\n",
      "\n",
      "------------------------------------------------------------\n",
      "CPU times: user 24.9 s, sys: 471 ms, total: 25.3 s\n",
      "Wall time: 51.7 s\n"
     ]
    }
   ],
   "source": [
    "%%time\n",
    "xgb_clas = xgb.XGBClassifier()\n",
    "xgb_clas.fit(X_train_transformed,y_train)\n",
    "#X_test.rename(columns={'Amount':'Normalized Amount'}, inplace=True)\n",
    "y_pred = xgb_clas.predict(X_test_transformed)\n",
    "model_report(xgb_clas)"
   ]
  },
  {
   "cell_type": "markdown",
   "metadata": {},
   "source": [
    "## Conclussion:"
   ]
  },
  {
   "cell_type": "markdown",
   "metadata": {},
   "source": [
    "*TODO:"
   ]
  },
  {
   "cell_type": "code",
   "execution_count": null,
   "metadata": {},
   "outputs": [],
   "source": []
  }
 ],
 "metadata": {
  "kernelspec": {
   "display_name": "Python 3",
   "language": "python",
   "name": "python3"
  },
  "language_info": {
   "codemirror_mode": {
    "name": "ipython",
    "version": 3
   },
   "file_extension": ".py",
   "mimetype": "text/x-python",
   "name": "python",
   "nbconvert_exporter": "python",
   "pygments_lexer": "ipython3",
   "version": "3.6.3"
  }
 },
 "nbformat": 4,
 "nbformat_minor": 2
}
